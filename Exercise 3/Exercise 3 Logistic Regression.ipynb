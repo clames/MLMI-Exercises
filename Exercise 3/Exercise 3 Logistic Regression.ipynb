{
 "cells": [
  {
   "cell_type": "code",
   "execution_count": 1,
   "metadata": {
    "collapsed": true
   },
   "outputs": [],
   "source": [
    "%matplotlib inline\n",
    "import os\n",
    "import math\n",
    "import numpy as np\n",
    "import heapq\n",
    "from sklearn.linear_model import LogisticRegression\n",
    "from sklearn.metrics import log_loss\n",
    "from sklearn.preprocessing import scale\n",
    "from scipy.special import gammaincc\n",
    "import matplotlib.pyplot as plt\n",
    "path = os.getcwd()"
   ]
  },
  {
   "cell_type": "code",
   "execution_count": 2,
   "metadata": {
    "collapsed": true
   },
   "outputs": [],
   "source": [
    "def likelihood_ratio_test(fm_ll, fm_features, rm_ll, rm_features):\n",
    "    D = 2 * (fm_ll - rm_ll)\n",
    "    df = fm_features - rm_features\n",
    "    return D, gammaincc(df/2, D/2)"
   ]
  },
  {
   "cell_type": "code",
   "execution_count": 3,
   "metadata": {
    "collapsed": true
   },
   "outputs": [],
   "source": [
    "def create_model(X,y,features=0, regularization='l2',Cvalue=1e10):\n",
    "    if features==0: #Full model\n",
    "        features=list(range(X.shape[1]))\n",
    "    if not features: #Null model\n",
    "        model = LogisticRegression(penalty=regularization,dual=False,C=Cvalue,solver='liblinear').fit(np.zeros([X.shape[0],1]),y)\n",
    "        predict_probabilities = model.predict_proba(np.zeros([X.shape[0],1]))\n",
    "        log_likelihood = -log_loss(y, predict_probabilities, normalize=False)\n",
    "        return model, log_likelihood, predict_probabilities, y\n",
    "    else: #Reduced/Full model\n",
    "        model = LogisticRegression(penalty=regularization,dual=False,C=Cvalue,solver='liblinear').fit(X[:,features],y)\n",
    "        predict_probabilities = model.predict_proba(X[:,features])\n",
    "        log_likelihood = -log_loss(y, predict_probabilities, normalize=False)\n",
    "        return model, log_likelihood, predict_probabilities, y"
   ]
  },
  {
   "cell_type": "code",
   "execution_count": 4,
   "metadata": {
    "collapsed": true
   },
   "outputs": [],
   "source": [
    "def get_Data():\n",
    "    data = np.genfromtxt(os.path.join(path,'data','SAheart.csv'),dtype=np.string_,delimiter=',')[1:,:]\n",
    "    for dataSet in data:\n",
    "        if dataSet[4]==b'\"Present\"':\n",
    "            dataSet[4]=b'1'\n",
    "        else:\n",
    "            dataSet[4]=b'0'\n",
    "    X = data[:,:-1].astype('float')\n",
    "    y = data[:,-1].astype('int')\n",
    "    return X,y"
   ]
  },
  {
   "cell_type": "code",
   "execution_count": 5,
   "metadata": {
    "collapsed": false
   },
   "outputs": [],
   "source": [
    "X,y = get_Data()"
   ]
  },
  {
   "cell_type": "markdown",
   "metadata": {},
   "source": [
    "South African Heart Disease"
   ]
  },
  {
   "cell_type": "markdown",
   "metadata": {},
   "source": [
    "a) Create a model that contains only the intercept (null model), i.e. no features are considered."
   ]
  },
  {
   "cell_type": "code",
   "execution_count": 6,
   "metadata": {
    "collapsed": false
   },
   "outputs": [],
   "source": [
    "nm = create_model(X,y,[])"
   ]
  },
  {
   "cell_type": "markdown",
   "metadata": {},
   "source": [
    "b) Create multiple models each considering a single feature. Note that famhist is a categorical feature which has to be converted to numbers first."
   ]
  },
  {
   "cell_type": "code",
   "execution_count": 7,
   "metadata": {
    "collapsed": true
   },
   "outputs": [],
   "source": [
    "sfm = []\n",
    "for feature in range(X.shape[1]):\n",
    "    sfm.append(create_model(X,y,[feature]))"
   ]
  },
  {
   "cell_type": "markdown",
   "metadata": {},
   "source": [
    "c) Create a function likelihood_ratio_test implementing the likelihood-ratio test which takes the log-likelihood of the full model and the reduced model (Section 1.1). Use this function to compare the single feature models to the null model. Which feature yields the most significant improvement over the null model?"
   ]
  },
  {
   "cell_type": "code",
   "execution_count": 8,
   "metadata": {
    "collapsed": false
   },
   "outputs": [
    {
     "name": "stdout",
     "output_type": "stream",
     "text": [
      "Feature 1: D=16.7861004034, p=4.18386430336e-05\n",
      "Feature 2: D=41.4609713246, p=1.20247801881e-10\n",
      "Feature 3: D=31.8295979469, p=1.68308309592e-08\n",
      "Feature 4: D=31.0570666514, p=2.50552467184e-08\n",
      "Feature 5: D=34.2140610071, p=4.93709334487e-09\n",
      "Feature 6: D=4.98036018259, p=0.0256366451805\n",
      "Feature 7: D=4.57982412447, p=0.0323505351071\n",
      "Feature 8: D=1.76297400184, p=0.184253997327\n",
      "Feature 9: D=70.5460725687, p=4.49641841771e-17\n",
      "\n",
      "=> Feature 9 (improvement: D=70.5460725687)\n"
     ]
    }
   ],
   "source": [
    "lr_test=[]\n",
    "for model in sfm:\n",
    "    d,p = likelihood_ratio_test(model[1],1,nm[1],0)\n",
    "    lr_test.append(d)\n",
    "    print ('Feature '+str(len(lr_test))+': D='+str(d)+', p='+str(p))\n",
    "    \n",
    "print ('')\n",
    "print (\"=> Feature \"+str(np.argmax(lr_test)+1)+\" (improvement: D=\"+str(max(lr_test))+\")\")"
   ]
  },
  {
   "cell_type": "markdown",
   "metadata": {},
   "source": [
    "d) What do the estimated coefficients tell with respect to the odds of suffering from myocardial infarction? Make sure you consider the p-value of the likelihood-ratio test as well."
   ]
  },
  {
   "cell_type": "markdown",
   "metadata": {},
   "source": [
    "- Null model yields the prior probabilities for both classes, i.e. the class ratio of all data points.\n",
    "- In gereral, Logistic Regression models are linear with respect to the log-odds-ratio. Therefore the coefficients indicate by how much this ratio will change if the value of a feature is changed. High coefficient values mean that a feature has a high influence on the odds of suffering from myocardial infarction.\n",
    "- This can also be seen by looking at the p-values. If p is close to 1, chances are that the extended model describes the same underlying distribution as the reduced model. If p is close to 0, this is highly unlikely and the extended model probably contains important new information."
   ]
  },
  {
   "cell_type": "markdown",
   "metadata": {},
   "source": [
    "e) Create a model which considers multiple features by starting with the null model and adding one additional feature at a time. To determine which feature to add, use the p-value as returned by the likelihood-ratio test. Extended models with one additional feature, where the p-value is greater than 0.05, should not be considered. In each step choose the model with the smallest p-value. Continue until all features have been selected or the model cannot be improved significantly any more. Print all selected features."
   ]
  },
  {
   "cell_type": "code",
   "execution_count": 9,
   "metadata": {
    "collapsed": false
   },
   "outputs": [
    {
     "name": "stdout",
     "output_type": "stream",
     "text": [
      "Feature 9: p=4.49641841771e-17\n",
      "Feature 5: p=1.37464174551e-05\n",
      "Feature 2: p=0.000786447034068\n",
      "Feature 6: p=0.00108825916418\n",
      "Feature 3: p=0.00265761619885\n"
     ]
    }
   ],
   "source": [
    "features = []\n",
    "while True:\n",
    "    model = create_model(X,y,features)\n",
    "    add_features = list(set(range(X.shape[1])) - set(features))\n",
    "    if not add_features:\n",
    "        break\n",
    "    lr_test = []\n",
    "    for f in add_features:\n",
    "        new_features = features.copy()\n",
    "        new_features.append(f)\n",
    "        new_model = create_model(X,y,new_features)\n",
    "        lr_test.append(likelihood_ratio_test(new_model[1],len(new_features),model[1],len(features))[1])\n",
    "    if np.min(lr_test)>0.05:\n",
    "        break\n",
    "    else:\n",
    "        print ('Feature '+str(add_features[np.argmin(lr_test)]+1)+': p='+str(np.min(lr_test)))\n",
    "        features.append(add_features[np.argmin(lr_test)])\n",
    "rm = model"
   ]
  },
  {
   "cell_type": "markdown",
   "metadata": {},
   "source": [
    "f) L1 (lasso) regularization can also be used for feature selection. Consider a full model with all 10 features as input, penalized with the L1 norm of coefficients (try regularization parameter C in the range of 0.01 − 0.1). Features with an non-zero coefficient are important for the classification. Compare the Lasso-selected features to the features selected by p-values. Please note Lasso-feature selection requires a standardization of features that each feature has a zero mean and a unit standard derivation (e.g.using Sklearn built-in function sklearn.preprocessing.scale)"
   ]
  },
  {
   "cell_type": "code",
   "execution_count": 10,
   "metadata": {
    "collapsed": false
   },
   "outputs": [
    {
     "name": "stdout",
     "output_type": "stream",
     "text": [
      "C-value: C=0.05\n",
      "\n",
      "Feature 1: w=0.0\n",
      "Feature 2: w=0.206673019352\n",
      "Feature 3: w=0.167453989035\n",
      "Feature 4: w=0.0\n",
      "Feature 5: w=0.243143799814\n",
      "Feature 6: w=0.0640055088035\n",
      "Feature 7: w=0.0\n",
      "Feature 8: w=0.0\n",
      "Feature 9: w=0.436613549543\n"
     ]
    }
   ],
   "source": [
    "C = 0.05\n",
    "l1coefficients = create_model(scale(X),y,regularization='l1',Cvalue=C)[0].coef_[0]\n",
    "print ('C-value: C='+str(C))\n",
    "print ('')\n",
    "for i in range(l1coefficients.shape[0]):\n",
    "    print ('Feature '+str(i+1)+': w='+str(l1coefficients[i]))"
   ]
  },
  {
   "cell_type": "markdown",
   "metadata": {},
   "source": [
    "ROC and Precision-Recall Curve"
   ]
  },
  {
   "cell_type": "markdown",
   "metadata": {},
   "source": [
    "1) Create a function threshold_confusion_matrix that expects a vector containing the ground truth and a vector of containing the predicted probabilities for each sample. For each unique threshold the function should return a 2 × 2 confusion matrix."
   ]
  },
  {
   "cell_type": "code",
   "execution_count": 11,
   "metadata": {
    "collapsed": true
   },
   "outputs": [],
   "source": [
    "def threshold_confusion_matrix(y, y_pred, t):\n",
    "    tp = y[y_pred>=t][y[y_pred>=t]==1].shape[0]\n",
    "    fp = y[y_pred>=t][y[y_pred>=t]==0].shape[0]\n",
    "    tn = y[y_pred<t][y[y_pred<t]==0].shape[0]\n",
    "    fn = y[y_pred<t][y[y_pred<t]==1].shape[0]\n",
    "    return tp,fp,tn,fn"
   ]
  },
  {
   "cell_type": "markdown",
   "metadata": {},
   "source": [
    "2) Based on the list of confusion matrices obtained by threshold_confusion_matrix you can easily derive all the performance measures you already implemented. Construct a ROC and precision-recall curve for the different logistic regression models you created for the South African Heart Disease data set. Calculate the area under the curve. Which model performs best?"
   ]
  },
  {
   "cell_type": "code",
   "execution_count": 12,
   "metadata": {
    "collapsed": true
   },
   "outputs": [],
   "source": [
    "def ROC(model):\n",
    "    t_heap = list(model[2][:,1])\n",
    "    heapq.heapify(t_heap)\n",
    "    roc_values = np.zeros([len(t_heap)+1,2])\n",
    "    pr_values = np.zeros([len(t_heap),2])\n",
    "    for n in range(len(t_heap)):\n",
    "        t = heapq.heappop(t_heap)\n",
    "        tp,fp,tn,fn = threshold_confusion_matrix(model[3],model[2][:,1],t)\n",
    "        roc_values[n] = np.array([tp/(tp+fn),1-tn/(tn+fp)])\n",
    "        pr_values[n] = np.array([tp/(tp+fn),tp/(fp+tp)])\n",
    "    tp,fp,tn,fn = threshold_confusion_matrix(model[3],model[2][:,1],1.0)\n",
    "    roc_values[-1] = np.array([tp/(tp+fn),1-tn/(tn+fp)])\n",
    "    roc_values = roc_values[::-1,:]\n",
    "    pr_values = pr_values[::-1,:]\n",
    "    area = 0\n",
    "    for i in range(roc_values.shape[0]-1):\n",
    "        area = area + (roc_values[i+1,1]-roc_values[i,1])*roc_values[i+1,0]\n",
    "    plt.subplot(1,2,1)    \n",
    "    plt.step(roc_values[:,1], roc_values[:,0])\n",
    "    plt.plot([0,1],[0,1], color='k', linestyle='-')\n",
    "    plt.title('ROC\\n Area='+str(area))\n",
    "    plt.subplot(1,2,2)\n",
    "    plt.plot(pr_values[:,0], pr_values[:,1])\n",
    "    plt.title('Precision-Recall')\n",
    "    plt.show()"
   ]
  },
  {
   "cell_type": "markdown",
   "metadata": {},
   "source": [
    "Full model:"
   ]
  },
  {
   "cell_type": "code",
   "execution_count": 13,
   "metadata": {
    "collapsed": false
   },
   "outputs": [
    {
     "data": {
      "image/png": "[encoded data removed]",
      "text/plain": [
       "<matplotlib.figure.Figure at 0x7f80b41ba518>"
      ]
     },
     "metadata": {},
     "output_type": "display_data"
    }
   ],
   "source": [
    "ROC(create_model(X,y))"
   ]
  },
  {
   "cell_type": "markdown",
   "metadata": {},
   "source": [
    "Reduced model:"
   ]
  },
  {
   "cell_type": "code",
   "execution_count": 14,
   "metadata": {
    "collapsed": false
   },
   "outputs": [
    {
     "data": {
      "image/png": "[encoded data removed]",
      "text/plain": [
       "<matplotlib.figure.Figure at 0x7f80b41ba0b8>"
      ]
     },
     "metadata": {},
     "output_type": "display_data"
    }
   ],
   "source": [
    "ROC(rm)"
   ]
  },
  {
   "cell_type": "markdown",
   "metadata": {},
   "source": [
    "Single feature (9) model:"
   ]
  },
  {
   "cell_type": "code",
   "execution_count": 15,
   "metadata": {
    "collapsed": false
   },
   "outputs": [
    {
     "data": {
      "image/png": "[encoded data removed]",
      "text/plain": [
       "<matplotlib.figure.Figure at 0x7f809fd72828>"
      ]
     },
     "metadata": {},
     "output_type": "display_data"
    }
   ],
   "source": [
    "ROC(sfm[8])"
   ]
  },
  {
   "cell_type": "markdown",
   "metadata": {},
   "source": [
    "Cross Validation"
   ]
  },
  {
   "cell_type": "markdown",
   "metadata": {},
   "source": [
    "1) In the full logistic regression model (using all features), we can add a L2 based regularization term. Use cross-validation to find out the optimal regularization strength. Divide the datasets into 3 folds in the cross-validation."
   ]
  },
  {
   "cell_type": "code",
   "execution_count": 16,
   "metadata": {
    "collapsed": true
   },
   "outputs": [],
   "source": [
    "def CV(r):\n",
    "    Xcv = np.array_split(X,3)\n",
    "    ycv = np.array_split(y,3)\n",
    "    Cvalues = []\n",
    "    for i in range(3):\n",
    "        train = list(set(range(3))-set([i]))\n",
    "        mr = []\n",
    "        for C in (10**x for x in range(-10,10)):\n",
    "            trainingX = np.concatenate((Xcv[train[0]],Xcv[train[1]]))\n",
    "            trainingy = np.concatenate((ycv[train[0]],ycv[train[1]]))\n",
    "            m = create_model(trainingX, trainingy, regularization=r, Cvalue=C)\n",
    "            probabilities = m[0].predict_proba(Xcv[i])[:,1]\n",
    "            positives = ycv[i][probabilities >= 0.5]\n",
    "            negatives = ycv[i][probabilities < 0.5]\n",
    "            fp = positives[positives==0].shape[0]\n",
    "            fn = negatives[negatives==1].shape[0]\n",
    "            mr.append(fp+fn)\n",
    "        Cvalues.append(list(10**x for x in range(-10,10))[np.argmin(mr)])\n",
    "        plt.subplot(1,3,i+1)\n",
    "        plt.plot(list(range(-10,10)),mr)\n",
    "    plt.show()\n",
    "    return np.mean(Cvalues)"
   ]
  },
  {
   "cell_type": "code",
   "execution_count": 17,
   "metadata": {
    "collapsed": false
   },
   "outputs": [
    {
     "data": {
      "image/png": "[encoded data removed]",
      "text/plain": [
       "<matplotlib.figure.Figure at 0x7f809fcd0278>"
      ]
     },
     "metadata": {},
     "output_type": "display_data"
    },
    {
     "name": "stdout",
     "output_type": "stream",
     "text": [
      "C_mean: 10e3.7\n"
     ]
    }
   ],
   "source": [
    "print ('C_mean: 10e'+str(CV('l2')))"
   ]
  },
  {
   "cell_type": "markdown",
   "metadata": {},
   "source": [
    "2) Change the L2 based regularization term into L1 (Lasso) regularization and repeat the task."
   ]
  },
  {
   "cell_type": "code",
   "execution_count": 18,
   "metadata": {
    "collapsed": false
   },
   "outputs": [
    {
     "data": {
      "image/png": "[encoded data removed]",
      "text/plain": [
       "<matplotlib.figure.Figure at 0x7f80b404a0b8>"
      ]
     },
     "metadata": {},
     "output_type": "display_data"
    },
    {
     "name": "stdout",
     "output_type": "stream",
     "text": [
      "C_mean: 10e6.7\n"
     ]
    }
   ],
   "source": [
    "print ('C_mean: 10e'+str(CV('l1')))"
   ]
  }
 ],
 "metadata": {
  "kernelspec": {
   "display_name": "Python 3",
   "language": "python",
   "name": "python3"
  },
  "language_info": {
   "codemirror_mode": {
    "name": "ipython",
    "version": 3
   },
   "file_extension": ".py",
   "mimetype": "text/x-python",
   "name": "python",
   "nbconvert_exporter": "python",
   "pygments_lexer": "ipython3",
   "version": "3.5.1"
  }
 },
 "nbformat": 4,
 "nbformat_minor": 0
}
